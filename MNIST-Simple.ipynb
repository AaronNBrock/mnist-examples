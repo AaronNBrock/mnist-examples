{
 "cells": [
  {
   "cell_type": "markdown",
   "metadata": {
    "nbpresent": {
     "id": "e98280a2-2321-4290-9f94-77ee5d39e2f7"
    }
   },
   "source": [
    "# Simple MNIST Model\n",
    "\n",
    "In this notebook we will create a simple model to predicts what letter is written in a 28x28 image based on the [MNIST dataset](http://yann.lecun.com/exdb/mnist/).  This is done via a two fully connected layer Neural Network on a flattened version of the image."
   ]
  },
  {
   "cell_type": "markdown",
   "metadata": {
    "nbpresent": {
     "id": "81f31bb2-0012-405d-acb2-5fc4ceeb463d"
    }
   },
   "source": [
    "## Import Libraries"
   ]
  },
  {
   "cell_type": "code",
   "execution_count": 1,
   "metadata": {
    "nbpresent": {
     "id": "ea336b2d-4ba4-4054-92ad-bf420b56709a"
    }
   },
   "outputs": [],
   "source": [
    "import tensorflow as tf\n",
    "import numpy as np\n",
    "import random\n",
    "import matplotlib.pyplot as plt\n",
    "%matplotlib inline"
   ]
  },
  {
   "cell_type": "markdown",
   "metadata": {},
   "source": [
    "## Download Mnist Data"
   ]
  },
  {
   "cell_type": "code",
   "execution_count": 2,
   "metadata": {},
   "outputs": [
    {
     "name": "stdout",
     "output_type": "stream",
     "text": [
      "WARNING:tensorflow:From <ipython-input-2-8bf8ae5a5303>:2: read_data_sets (from tensorflow.contrib.learn.python.learn.datasets.mnist) is deprecated and will be removed in a future version.\n",
      "Instructions for updating:\n",
      "Please use alternatives such as official/mnist/dataset.py from tensorflow/models.\n",
      "WARNING:tensorflow:From /usr/local/Caskroom/miniconda/base/envs/tensorflow-v1-test/lib/python3.6/site-packages/tensorflow_core/contrib/learn/python/learn/datasets/mnist.py:260: maybe_download (from tensorflow.contrib.learn.python.learn.datasets.base) is deprecated and will be removed in a future version.\n",
      "Instructions for updating:\n",
      "Please write your own downloading logic.\n",
      "WARNING:tensorflow:From /usr/local/Caskroom/miniconda/base/envs/tensorflow-v1-test/lib/python3.6/site-packages/tensorflow_core/contrib/learn/python/learn/datasets/mnist.py:262: extract_images (from tensorflow.contrib.learn.python.learn.datasets.mnist) is deprecated and will be removed in a future version.\n",
      "Instructions for updating:\n",
      "Please use tf.data to implement this functionality.\n",
      "Extracting MNIST_data/train-images-idx3-ubyte.gz\n",
      "WARNING:tensorflow:From /usr/local/Caskroom/miniconda/base/envs/tensorflow-v1-test/lib/python3.6/site-packages/tensorflow_core/contrib/learn/python/learn/datasets/mnist.py:267: extract_labels (from tensorflow.contrib.learn.python.learn.datasets.mnist) is deprecated and will be removed in a future version.\n",
      "Instructions for updating:\n",
      "Please use tf.data to implement this functionality.\n",
      "Extracting MNIST_data/train-labels-idx1-ubyte.gz\n",
      "WARNING:tensorflow:From /usr/local/Caskroom/miniconda/base/envs/tensorflow-v1-test/lib/python3.6/site-packages/tensorflow_core/contrib/learn/python/learn/datasets/mnist.py:110: dense_to_one_hot (from tensorflow.contrib.learn.python.learn.datasets.mnist) is deprecated and will be removed in a future version.\n",
      "Instructions for updating:\n",
      "Please use tf.one_hot on tensors.\n",
      "Extracting MNIST_data/t10k-images-idx3-ubyte.gz\n",
      "Extracting MNIST_data/t10k-labels-idx1-ubyte.gz\n",
      "WARNING:tensorflow:From /usr/local/Caskroom/miniconda/base/envs/tensorflow-v1-test/lib/python3.6/site-packages/tensorflow_core/contrib/learn/python/learn/datasets/mnist.py:290: DataSet.__init__ (from tensorflow.contrib.learn.python.learn.datasets.mnist) is deprecated and will be removed in a future version.\n",
      "Instructions for updating:\n",
      "Please use alternatives such as official/mnist/dataset.py from tensorflow/models.\n"
     ]
    }
   ],
   "source": [
    "from tensorflow.examples.tutorials.mnist import input_data\n",
    "mnist = input_data.read_data_sets(\"MNIST_data/\", one_hot=True)"
   ]
  },
  {
   "cell_type": "markdown",
   "metadata": {},
   "source": [
    "## Explore Data"
   ]
  },
  {
   "cell_type": "code",
   "execution_count": 3,
   "metadata": {},
   "outputs": [],
   "source": [
    "def show_image(image):\n",
    "    plt.imshow(image.reshape((28, 28)), cmap='gray')"
   ]
  },
  {
   "cell_type": "code",
   "execution_count": 4,
   "metadata": {
    "scrolled": false
   },
   "outputs": [
    {
     "name": "stdout",
     "output_type": "stream",
     "text": [
      "Label: [0 0 0 1 0 0 0 0 0 0]\n",
      "Argmax: 3\n"
     ]
    },
    {
     "data": {
      "image/png": "[encoded data removed]",
      "text/plain": [
       "<Figure size 432x288 with 1 Axes>"
      ]
     },
     "metadata": {
      "needs_background": "light"
     },
     "output_type": "display_data"
    }
   ],
   "source": [
    "index = random.randint(0, len(mnist.train.images))\n",
    "\n",
    "image = mnist.train.images[index]\n",
    "label = mnist.train.labels[index]\n",
    "\n",
    "print('Label: {}\\nArgmax: {}'.format(label.astype(int), np.argmax(label)))\n",
    "\n",
    "show_image(image)"
   ]
  },
  {
   "cell_type": "markdown",
   "metadata": {
    "nbpresent": {
     "id": "4829090c-07c5-4964-a84a-701a5b89f294"
    }
   },
   "source": [
    "## Define Model"
   ]
  },
  {
   "cell_type": "code",
   "execution_count": 5,
   "metadata": {},
   "outputs": [],
   "source": [
    "# Reset graph\n",
    "tf.reset_default_graph()\n",
    "# Set reuse to AUTO_REUSE, this allows you to run tf.get_variable() more than once.\n",
    "tf.get_variable_scope()._reuse = tf.AUTO_REUSE"
   ]
  },
  {
   "cell_type": "markdown",
   "metadata": {},
   "source": [
    "#### Hyperparameters"
   ]
  },
  {
   "cell_type": "code",
   "execution_count": 6,
   "metadata": {},
   "outputs": [],
   "source": [
    "# Learning rate\n",
    "learning_rate = 0.1\n",
    "# Batch Size\n",
    "batch_size = 256\n",
    "# Epochs\n",
    "epochs = 500"
   ]
  },
  {
   "cell_type": "markdown",
   "metadata": {
    "nbpresent": {
     "id": "91eb9701-a56a-4695-ab94-8d9eb2c98206"
    }
   },
   "source": [
    "#### Layer 0: Model Inputs: (28*28)"
   ]
  },
  {
   "cell_type": "code",
   "execution_count": 7,
   "metadata": {
    "nbpresent": {
     "id": "9229f34c-08e4-4285-b2f0-750cdaa195b0"
    }
   },
   "outputs": [],
   "source": [
    "# Input Images\n",
    "features = tf.placeholder(tf.float32, [None, 28*28], name='features')\n",
    "\n",
    "# True Values\n",
    "labels = tf.placeholder(tf.float32, [None, 10], name='labels')"
   ]
  },
  {
   "cell_type": "markdown",
   "metadata": {
    "nbpresent": {
     "id": "a12af5e5-d37f-40b3-83e3-4bca21ab0eca"
    }
   },
   "source": [
    "#### Layer 1: Fully Connected: 32"
   ]
  },
  {
   "cell_type": "code",
   "execution_count": 8,
   "metadata": {
    "nbpresent": {
     "id": "6688439c-cd74-4d5f-9f54-ac8eeb169518"
    }
   },
   "outputs": [],
   "source": [
    "# Weights\n",
    "W_1 = tf.get_variable('W_1', shape=[28*28, 32], initializer=tf.truncated_normal_initializer)\n",
    "# Bias\n",
    "b_1 = tf.get_variable('b_1', shape=[32], initializer=tf.zeros_initializer)\n",
    "\n",
    "# Layer Output\n",
    "layer_1 = tf.matmul(features, W_1) + b_1\n",
    "# Activation Function\n",
    "layer_1 = tf.nn.sigmoid(layer_1)"
   ]
  },
  {
   "cell_type": "markdown",
   "metadata": {},
   "source": [
    "#### Layer 2: Fully Connected: 10"
   ]
  },
  {
   "cell_type": "code",
   "execution_count": 9,
   "metadata": {},
   "outputs": [],
   "source": [
    "# Weights\n",
    "W_2 = tf.get_variable('W_2', shape=[32, 10], initializer=tf.truncated_normal_initializer)\n",
    "# Bias\n",
    "b_2 = tf.get_variable('b_2', shape=[10], initializer=tf.zeros_initializer)\n",
    "\n",
    "# Layer Output\n",
    "layer_2 = tf.matmul(layer_1, W_2) + b_2\n",
    "\n",
    "# Model Predictions\n",
    "logits = layer_2"
   ]
  },
  {
   "cell_type": "markdown",
   "metadata": {},
   "source": [
    "#### Loss Function"
   ]
  },
  {
   "cell_type": "code",
   "execution_count": 10,
   "metadata": {
    "nbpresent": {
     "id": "77576169-b0c3-4b16-87fb-1d132a2d715e"
    }
   },
   "outputs": [],
   "source": [
    "# Cross entropy\n",
    "cross_entropys = tf.nn.softmax_cross_entropy_with_logits_v2(labels=labels, logits=logits)\n",
    "\n",
    "# Take average accross batch\n",
    "average_cross_entropy = tf.reduce_mean(cross_entropys)"
   ]
  },
  {
   "cell_type": "markdown",
   "metadata": {},
   "source": [
    "#### Optimizer"
   ]
  },
  {
   "cell_type": "code",
   "execution_count": 11,
   "metadata": {},
   "outputs": [],
   "source": [
    "# Optimizer\n",
    "optimizer = tf.train.AdamOptimizer(learning_rate)\n",
    "\n",
    "# Training Step\n",
    "train_step = optimizer.minimize(average_cross_entropy)"
   ]
  },
  {
   "cell_type": "markdown",
   "metadata": {},
   "source": [
    "## Accuracy"
   ]
  },
  {
   "cell_type": "code",
   "execution_count": 12,
   "metadata": {},
   "outputs": [],
   "source": [
    "correct_prediction = tf.equal(tf.argmax(labels, 1), tf.argmax(logits, 1))\n",
    "\n",
    "accuracy = tf.reduce_mean(tf.cast(correct_prediction, tf.float32))"
   ]
  },
  {
   "cell_type": "markdown",
   "metadata": {
    "nbpresent": {
     "id": "96345023-61d9-4ed4-bd92-0b2558ae6b6d"
    }
   },
   "source": [
    "## Train Model"
   ]
  },
  {
   "cell_type": "markdown",
   "metadata": {},
   "source": [
    "#### Saver"
   ]
  },
  {
   "cell_type": "code",
   "execution_count": 13,
   "metadata": {},
   "outputs": [],
   "source": [
    "saver = tf.train.Saver()\n",
    "save_path = './checkpoints/simple.ckpt'"
   ]
  },
  {
   "cell_type": "markdown",
   "metadata": {},
   "source": [
    "#### Run Tensorflow Session"
   ]
  },
  {
   "cell_type": "code",
   "execution_count": 14,
   "metadata": {},
   "outputs": [
    {
     "name": "stdout",
     "output_type": "stream",
     "text": [
      "Epoch:   0 Train Accuracy: 0.156\n",
      "Epoch: 100 Train Accuracy: 0.918\n",
      "Epoch: 200 Train Accuracy: 0.945\n",
      "Epoch: 300 Train Accuracy: 0.926\n",
      "Epoch: 400 Train Accuracy: 0.930\n",
      "Epoch: 500 Train Accuracy: 0.926\n",
      "Test Accuracy: 0.918\n"
     ]
    }
   ],
   "source": [
    "print_every = 100\n",
    "with tf.Session() as sess:\n",
    "    sess.run(tf.global_variables_initializer())\n",
    "    \n",
    "    for e in range(epochs+1):\n",
    "        \n",
    "        batch_features, batch_labels = mnist.train.next_batch(batch_size)\n",
    "\n",
    "        _, acc = sess.run([train_step, accuracy], feed_dict={\n",
    "            features: batch_features,\n",
    "            labels: batch_labels\n",
    "        })\n",
    "        \n",
    "        if e % print_every == 0:\n",
    "            print('Epoch:{:4} Train Accuracy: {:.3f}'.format(e, acc))\n",
    "    \n",
    "    \n",
    "    acc = sess.run(accuracy, feed_dict={\n",
    "        features: mnist.test.images,\n",
    "        labels: mnist.test.labels\n",
    "    })\n",
    "    print('Test Accuracy: {:.3f}'.format(acc))\n",
    "    \n",
    "    saver.save(sess, save_path)"
   ]
  },
  {
   "cell_type": "markdown",
   "metadata": {
    "nbpresent": {
     "id": "063c912e-a9b6-4142-865b-6eb4c246a65e"
    }
   },
   "source": [
    "## Prediction Example"
   ]
  },
  {
   "cell_type": "code",
   "execution_count": 15,
   "metadata": {
    "nbpresent": {
     "id": "edca66a2-2ab3-4b41-9d7b-12f43d8e6c6a"
    }
   },
   "outputs": [
    {
     "name": "stdout",
     "output_type": "stream",
     "text": [
      "INFO:tensorflow:Restoring parameters from ./checkpoints/simple.ckpt\n",
      "\n",
      "Label: [0 0 0 1 0 0 0 0 0 0]\n",
      "Argmax: 3\n",
      "\n",
      "Logit: [-4  0 -1  9 -7  1 -7 -1  0 -4]\n",
      "Argmax: 3\n"
     ]
    },
    {
     "data": {
      "image/png": "[encoded data removed]",
      "text/plain": [
       "<Figure size 432x288 with 1 Axes>"
      ]
     },
     "metadata": {
      "needs_background": "light"
     },
     "output_type": "display_data"
    }
   ],
   "source": [
    "with tf.Session() as sess:\n",
    "    saver.restore(sess, save_path)\n",
    "    \n",
    "    index = random.randint(0, len(mnist.train.images))\n",
    "    image = mnist.train.images[index]\n",
    "    label = mnist.train.labels[index]\n",
    "    \n",
    "    logit = sess.run(logits, feed_dict={\n",
    "        features: [image],\n",
    "        labels: [label]\n",
    "    })[0]\n",
    "    \n",
    "    # This is just to make the print statement nicer\n",
    "    label = label.astype(int)\n",
    "    logit = logit.astype(int)\n",
    "\n",
    "    print('\\nLabel: {}\\nArgmax: {}\\n\\nLogit: {}\\nArgmax: {}'.format(label, np.argmax(label), logit, np.argmax(logit)))\n",
    "    \n",
    "    show_image(image)"
   ]
  },
  {
   "cell_type": "code",
   "execution_count": null,
   "metadata": {},
   "outputs": [],
   "source": []
  }
 ],
 "metadata": {
  "kernelspec": {
   "display_name": "Python [conda env:tensorflow-v1-test]",
   "language": "python",
   "name": "conda-env-tensorflow-v1-test-py"
  },
  "language_info": {
   "codemirror_mode": {
    "name": "ipython",
    "version": 3
   },
   "file_extension": ".py",
   "mimetype": "text/x-python",
   "name": "python",
   "nbconvert_exporter": "python",
   "pygments_lexer": "ipython3",
   "version": "3.6.9"
  }
 },
 "nbformat": 4,
 "nbformat_minor": 2
}
